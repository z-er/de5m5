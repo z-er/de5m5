{
 "cells": [
  {
   "cell_type": "code",
   "execution_count": 1,
   "id": "ab8f68db",
   "metadata": {},
   "outputs": [],
   "source": [
    "import pandas as pd\n",
    "import numpy as np"
   ]
  },
  {
   "cell_type": "markdown",
   "id": "cc8bf277",
   "metadata": {},
   "source": [
    "## Load in CSV files into python."
   ]
  },
  {
   "cell_type": "code",
   "execution_count": 31,
   "id": "735d60e0",
   "metadata": {},
   "outputs": [],
   "source": [
    "# List your CSV file paths manually\n",
    "csv_files = ['data\\\\03_Library SystemCustomers.csv', 'data\\\\03_Library Systembook.csv']\n",
    "\n",
    "# Load each CSV into a dataframe and assign to individual variables\n",
    "df_system_customers = pd.read_csv(csv_files[0])\n",
    "df_systembook = pd.read_csv(csv_files[1])"
   ]
  },
  {
   "cell_type": "code",
   "execution_count": null,
   "id": "2a01a4c3",
   "metadata": {},
   "outputs": [],
   "source": []
  },
  {
   "cell_type": "markdown",
   "id": "66dd90d1",
   "metadata": {},
   "source": [
    "### Systembook cleansing"
   ]
  },
  {
   "cell_type": "code",
   "execution_count": 32,
   "id": "6c93e801",
   "metadata": {},
   "outputs": [],
   "source": [
    "# Drop rows where essential fields are missing\n",
    "essential_fields = ['Id', 'Books', 'Book checkout', 'Book Returned', 'Customer ID']\n",
    "df_systembook = df_systembook.dropna(subset=essential_fields).copy()"
   ]
  },
  {
   "cell_type": "code",
   "execution_count": null,
   "id": "10968424",
   "metadata": {},
   "outputs": [],
   "source": [
    "# Strip the extra quotes and convert dates to datetime format\n",
    "df_systembook['Book checkout'] = df_systembook['Book checkout'].str.replace('\"', '')\n",
    "df_systembook['Book checkout'] = pd.to_datetime(df_systembook['Book checkout'].str.replace('\"', ''), errors='coerce', dayfirst=True, format=\"%d/%m/%Y\")\n",
    "df_systembook['Book Returned'] = pd.to_datetime(df_systembook['Book Returned'], errors='coerce', dayfirst=True, format=\"%d/%m/%Y\")\n",
    "\n",
    "# One row here is incorrect as it's date is 32/05/2023."
   ]
  },
  {
   "cell_type": "code",
   "execution_count": 34,
   "id": "101b8381",
   "metadata": {},
   "outputs": [],
   "source": [
    "# Convert Id & Customer ID to integers\n",
    "df_systembook['Id'] = df_systembook['Id'].astype(int)\n",
    "df_systembook['Customer ID'] = df_systembook['Customer ID'].astype(int)"
   ]
  },
  {
   "cell_type": "code",
   "execution_count": null,
   "id": "6b39f42b",
   "metadata": {},
   "outputs": [],
   "source": []
  }
 ],
 "metadata": {
  "kernelspec": {
   "display_name": "Python 3",
   "language": "python",
   "name": "python3"
  },
  "language_info": {
   "codemirror_mode": {
    "name": "ipython",
    "version": 3
   },
   "file_extension": ".py",
   "mimetype": "text/x-python",
   "name": "python",
   "nbconvert_exporter": "python",
   "pygments_lexer": "ipython3",
   "version": "3.11.3"
  }
 },
 "nbformat": 4,
 "nbformat_minor": 5
}
